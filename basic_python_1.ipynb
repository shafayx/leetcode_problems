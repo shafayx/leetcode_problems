{
  "nbformat": 4,
  "nbformat_minor": 0,
  "metadata": {
    "colab": {
      "provenance": []
    },
    "kernelspec": {
      "name": "python3",
      "display_name": "Python 3"
    },
    "language_info": {
      "name": "python"
    }
  },
  "cells": [
    {
      "cell_type": "code",
      "execution_count": null,
      "metadata": {
        "id": "JUPkc5xUS9Zo",
        "colab": {
          "base_uri": "https://localhost:8080/"
        },
        "outputId": "7840d334-444b-4307-dac4-2ad8f92f7ebe"
      },
      "outputs": [
        {
          "output_type": "stream",
          "name": "stdout",
          "text": [
            "1623478612387462198746196482734684523453462456345646754675478485678698709808909687647464\n"
          ]
        }
      ],
      "source": [
        "#Integer, Float, String\n",
        "a = 123\n",
        "b = 123.0\n",
        "c = \"Shafay12@#90\""
      ]
    },
    {
      "cell_type": "code",
      "source": [
        "a = 2121\n",
        "b = 5796\n",
        "c = 5796\n",
        "d = 10000\n",
        "if d < a:\n",
        "  print(\"Cod\")\n",
        "elif c > d:\n",
        "  print(\"Incorrect\")\n",
        "else:\n",
        "  print(\"2CORRECT\")"
      ],
      "metadata": {
        "colab": {
          "base_uri": "https://localhost:8080/"
        },
        "id": "vM1IS_aOoi9e",
        "outputId": "bf99c958-f528-4b35-893b-61cb3adf3dc4"
      },
      "execution_count": null,
      "outputs": [
        {
          "output_type": "stream",
          "name": "stdout",
          "text": [
            "2CORRECT\n"
          ]
        }
      ]
    },
    {
      "cell_type": "markdown",
      "source": [
        "       "
      ],
      "metadata": {
        "id": "HimCgB4D6Tn1"
      }
    },
    {
      "cell_type": "code",
      "source": [
        "d = \"pepsi\"\n",
        "if d == \"Fanta\":\n",
        "  print(\"F\")\n",
        "elif d == \"Coke\":\n",
        "  print(\"c\")\n",
        "else:\n",
        "  print(\"Pepsi\")"
      ],
      "metadata": {
        "colab": {
          "base_uri": "https://localhost:8080/"
        },
        "id": "aAnFTciQZdm6",
        "outputId": "554af778-8b8f-44e0-d0cd-d0f2e372b6fd"
      },
      "execution_count": null,
      "outputs": [
        {
          "output_type": "stream",
          "name": "stdout",
          "text": [
            "Pepsi\n"
          ]
        }
      ]
    },
    {
      "cell_type": "code",
      "source": [
        "shafay = 12\n",
        "usama = 12\n",
        "if shafay > usama:\n",
        "  print(\"Shafay is a senior person\")\n",
        "elif shafay < usama:\n",
        "  print(\"Usama is senior\")\n",
        "else:\n",
        "  print(\"Hamna is a most senior person\")"
      ],
      "metadata": {
        "colab": {
          "base_uri": "https://localhost:8080/"
        },
        "id": "7OSm663aa7ee",
        "outputId": "e96bde34-5657-4da4-8626-9c124d2f03c6"
      },
      "execution_count": null,
      "outputs": [
        {
          "output_type": "stream",
          "name": "stdout",
          "text": [
            "Hamna is a most senior person\n"
          ]
        }
      ]
    },
    {
      "cell_type": "code",
      "source": [
        "Subject096 = 1000\n",
        "Subject312 = 979\n",
        "Subject121 = 576\n",
        "Subject159 = 468\n",
        "if Subject312 < Subject096:\n",
        "  print(2102)\n",
        "elif Subject312 > Subject096:\n",
        "  print(\"Teken49\")"
      ],
      "metadata": {
        "id": "701F9SzDcGkY",
        "colab": {
          "base_uri": "https://localhost:8080/"
        },
        "outputId": "d2ea1696-77e8-41d9-d2f7-8cb67c116b08"
      },
      "execution_count": null,
      "outputs": [
        {
          "output_type": "stream",
          "name": "stdout",
          "text": [
            "2102\n"
          ]
        }
      ]
    },
    {
      "cell_type": "code",
      "source": [
        "a = \"GTAV\"\n",
        "b = \"Minecraft\"\n",
        "c = \"Roblox\"\n",
        "d = \"Call Of Duty\"\n",
        "if a == \"Pubg\":\n",
        "  print(\"Correct\")\n",
        "elif b == \"Forza\":\n",
        "  print(\"Brute\")\n",
        "elif d == \"Call Of Duty\":\n",
        "  print(\"127562162754216256421632754612627568126726128978\")\n",
        "else:\n",
        "  print(8788)"
      ],
      "metadata": {
        "colab": {
          "base_uri": "https://localhost:8080/"
        },
        "id": "ZqJzqiXSkxZb",
        "outputId": "368f8ceb-4e54-43f6-bfad-ab2b425cdbe0"
      },
      "execution_count": null,
      "outputs": [
        {
          "output_type": "stream",
          "name": "stdout",
          "text": [
            "127562162754216256421632754612627568126726128978\n"
          ]
        }
      ]
    },
    {
      "cell_type": "code",
      "source": [
        "a = 4\n",
        "if a % 2 == 0:\n",
        "  print(\"Number Is Even\")\n",
        "else:\n",
        "  print(\"Number Is Odd\")"
      ],
      "metadata": {
        "colab": {
          "base_uri": "https://localhost:8080/"
        },
        "id": "zBjf6BbZkx3h",
        "outputId": "8472a162-d7fa-4722-a066-a295087c7a9c"
      },
      "execution_count": null,
      "outputs": [
        {
          "output_type": "stream",
          "name": "stdout",
          "text": [
            "Number Is Even\n"
          ]
        }
      ]
    },
    {
      "cell_type": "code",
      "source": [
        "num = 1\n",
        "while(num <= 10):\n",
        "  ans = 2 * num\n",
        "  print(\"2 * \", num, \"=\", ans )\n",
        "  num = num + 1"
      ],
      "metadata": {
        "id": "hQ568cPwqnt9",
        "colab": {
          "base_uri": "https://localhost:8080/"
        },
        "outputId": "81a7d275-a286-4b7a-bbc9-f21fad81eadc"
      },
      "execution_count": null,
      "outputs": [
        {
          "output_type": "stream",
          "name": "stdout",
          "text": [
            "2 *  1 = 2\n",
            "2 *  2 = 4\n",
            "2 *  3 = 6\n",
            "2 *  4 = 8\n",
            "2 *  5 = 10\n",
            "2 *  6 = 12\n",
            "2 *  7 = 14\n",
            "2 *  8 = 16\n",
            "2 *  9 = 18\n",
            "2 *  10 = 20\n"
          ]
        }
      ]
    },
    {
      "cell_type": "code",
      "source": [
        "num = 1\n",
        "while(num <= 20):\n",
        "  print(\"Happy Birthday Shafay\", num)\n",
        "  num = num + 1"
      ],
      "metadata": {
        "id": "-i5E7p1IqoP9",
        "colab": {
          "base_uri": "https://localhost:8080/"
        },
        "outputId": "80f19f32-64eb-4432-c015-b64d72394ece"
      },
      "execution_count": null,
      "outputs": [
        {
          "output_type": "stream",
          "name": "stdout",
          "text": [
            "Happy Birthday Shafay 1\n",
            "Happy Birthday Shafay 2\n",
            "Happy Birthday Shafay 3\n",
            "Happy Birthday Shafay 4\n",
            "Happy Birthday Shafay 5\n",
            "Happy Birthday Shafay 6\n",
            "Happy Birthday Shafay 7\n",
            "Happy Birthday Shafay 8\n",
            "Happy Birthday Shafay 9\n",
            "Happy Birthday Shafay 10\n",
            "Happy Birthday Shafay 11\n",
            "Happy Birthday Shafay 12\n",
            "Happy Birthday Shafay 13\n",
            "Happy Birthday Shafay 14\n",
            "Happy Birthday Shafay 15\n",
            "Happy Birthday Shafay 16\n",
            "Happy Birthday Shafay 17\n",
            "Happy Birthday Shafay 18\n",
            "Happy Birthday Shafay 19\n",
            "Happy Birthday Shafay 20\n"
          ]
        }
      ]
    },
    {
      "cell_type": "code",
      "source": [
        "a = 6565\n",
        "b = 66\n",
        "if a % 2 == 0:\n",
        "  print(\"Even\")\n",
        "else:\n",
        "  print(\"Odd\")"
      ],
      "metadata": {
        "id": "YXHF2O9svNCu",
        "colab": {
          "base_uri": "https://localhost:8080/"
        },
        "outputId": "190a0fbb-7989-4b06-9176-df52c9e4910b"
      },
      "execution_count": null,
      "outputs": [
        {
          "output_type": "stream",
          "name": "stdout",
          "text": [
            "Odd\n"
          ]
        }
      ]
    },
    {
      "cell_type": "code",
      "source": [
        "if b % 2 == 0:\n",
        "  print(\"Even\")"
      ],
      "metadata": {
        "colab": {
          "base_uri": "https://localhost:8080/"
        },
        "id": "9XdfQII68Smm",
        "outputId": "2fb64f88-5629-4cf1-e9c3-a2a0a773e075"
      },
      "execution_count": null,
      "outputs": [
        {
          "output_type": "stream",
          "name": "stdout",
          "text": [
            "Even\n"
          ]
        }
      ]
    },
    {
      "cell_type": "code",
      "source": [
        "num = 1\n",
        "while (num <= 5):\n",
        "  print(num)\n",
        "  num = num + 1"
      ],
      "metadata": {
        "colab": {
          "base_uri": "https://localhost:8080/"
        },
        "id": "Ibg4lDEI9Lq6",
        "outputId": "a1116c31-178a-426e-de26-95a669ece669"
      },
      "execution_count": null,
      "outputs": [
        {
          "output_type": "stream",
          "name": "stdout",
          "text": [
            "1\n",
            "2\n",
            "3\n",
            "4\n",
            "5\n"
          ]
        }
      ]
    },
    {
      "cell_type": "code",
      "source": [
        "num = 1\n",
        "while (num <= 10):\n",
        "  print(\"A\",num)\n",
        "  num = num + 1"
      ],
      "metadata": {
        "colab": {
          "base_uri": "https://localhost:8080/"
        },
        "id": "1qqHDmh00t_M",
        "outputId": "d502ba54-8a69-4ec4-dd76-ff6406bbf743"
      },
      "execution_count": null,
      "outputs": [
        {
          "output_type": "stream",
          "name": "stdout",
          "text": [
            "A 1\n",
            "A 2\n",
            "A 3\n",
            "A 4\n",
            "A 5\n",
            "A 6\n",
            "A 7\n",
            "A 8\n",
            "A 9\n",
            "A 10\n"
          ]
        }
      ]
    },
    {
      "cell_type": "code",
      "source": [
        "num = 1\n",
        "while (num <= 10):\n",
        "  ans = num * 2\n",
        "  print( \" 2 * \" , num , \"=\" , ans)\n",
        "  num = num + 1"
      ],
      "metadata": {
        "colab": {
          "base_uri": "https://localhost:8080/"
        },
        "id": "pQZwqTbv2CZS",
        "outputId": "ea44e36c-f361-424a-a460-a51e5258e906"
      },
      "execution_count": null,
      "outputs": [
        {
          "output_type": "stream",
          "name": "stdout",
          "text": [
            " 2 *  1 = 2\n",
            " 2 *  2 = 4\n",
            " 2 *  3 = 6\n",
            " 2 *  4 = 8\n",
            " 2 *  5 = 10\n",
            " 2 *  6 = 12\n",
            " 2 *  7 = 14\n",
            " 2 *  8 = 16\n",
            " 2 *  9 = 18\n",
            " 2 *  10 = 20\n"
          ]
        }
      ]
    },
    {
      "cell_type": "code",
      "source": [
        "num = 1\n",
        "while (num <= 9):\n",
        "  ans = num + 2\n",
        "  print(num)\n",
        "  num = num + 2"
      ],
      "metadata": {
        "colab": {
          "base_uri": "https://localhost:8080/"
        },
        "id": "eOIFuSdq4p62",
        "outputId": "0231006d-6206-4f51-cbec-408d550a5972"
      },
      "execution_count": null,
      "outputs": [
        {
          "output_type": "stream",
          "name": "stdout",
          "text": [
            "1\n",
            "3\n",
            "5\n",
            "7\n",
            "9\n"
          ]
        }
      ]
    },
    {
      "cell_type": "code",
      "source": [
        "num = 1\n",
        "while (num <= 10):\n",
        "  if num % 2 == 0:\n",
        "    print(num, \"Even\")\n",
        "  else:\n",
        "    print(num, \"Odd\")\n",
        "  num = num + 1"
      ],
      "metadata": {
        "colab": {
          "base_uri": "https://localhost:8080/"
        },
        "id": "ESMYPolYw4ZQ",
        "outputId": "4818658f-6c84-47b2-af19-815c17cd5caf"
      },
      "execution_count": null,
      "outputs": [
        {
          "output_type": "stream",
          "name": "stdout",
          "text": [
            "1 Odd\n",
            "2 Even\n",
            "3 Odd\n",
            "4 Even\n",
            "5 Odd\n",
            "6 Even\n",
            "7 Odd\n",
            "8 Even\n",
            "9 Odd\n",
            "10 Even\n"
          ]
        }
      ]
    },
    {
      "cell_type": "code",
      "source": [
        "num = 0\n",
        "while (num <= 10):\n",
        "  print(num)\n",
        "  num = num + 5"
      ],
      "metadata": {
        "colab": {
          "base_uri": "https://localhost:8080/"
        },
        "id": "3dM5afY9ukjQ",
        "outputId": "c3af12e2-5312-411f-c054-ae615ecb283e"
      },
      "execution_count": null,
      "outputs": [
        {
          "output_type": "stream",
          "name": "stdout",
          "text": [
            "0\n",
            "5\n",
            "10\n"
          ]
        }
      ]
    },
    {
      "cell_type": "code",
      "source": [
        "num = 0\n",
        "for i in range(5):\n",
        "  print(num)\n",
        "  num = num + 1"
      ],
      "metadata": {
        "colab": {
          "base_uri": "https://localhost:8080/"
        },
        "id": "f5oc6QXIwPAE",
        "outputId": "5cd02cc7-3500-4965-a925-4e3b3cf61c0e"
      },
      "execution_count": null,
      "outputs": [
        {
          "output_type": "stream",
          "name": "stdout",
          "text": [
            "0\n",
            "1\n",
            "2\n",
            "3\n",
            "4\n"
          ]
        }
      ]
    },
    {
      "cell_type": "code",
      "source": [
        "#Array\n",
        "arr = [12,23,\"saja\",12.2]\n",
        "print(arr[3])"
      ],
      "metadata": {
        "colab": {
          "base_uri": "https://localhost:8080/"
        },
        "id": "SaAsHaa2w1Vr",
        "outputId": "0433a593-959d-40c5-8680-022152baf2ac"
      },
      "execution_count": null,
      "outputs": [
        {
          "output_type": "stream",
          "name": "stdout",
          "text": [
            "12.2\n"
          ]
        }
      ]
    },
    {
      "cell_type": "code",
      "source": [
        "print(len(arr))"
      ],
      "metadata": {
        "colab": {
          "base_uri": "https://localhost:8080/"
        },
        "id": "fsDvzx3wxnCK",
        "outputId": "0e2ec016-50a8-4294-e678-e6a61fe21fc2"
      },
      "execution_count": null,
      "outputs": [
        {
          "output_type": "stream",
          "name": "stdout",
          "text": [
            "4\n"
          ]
        }
      ]
    },
    {
      "cell_type": "code",
      "source": [
        "for i in range(len(arr)):\n",
        "  print(arr[i])"
      ],
      "metadata": {
        "colab": {
          "base_uri": "https://localhost:8080/"
        },
        "id": "VhB_Bb0uxi3k",
        "outputId": "cbac6b2e-97b0-40ae-f7e9-cbf677c298ec"
      },
      "execution_count": null,
      "outputs": [
        {
          "output_type": "stream",
          "name": "stdout",
          "text": [
            "12\n",
            "23\n",
            "saja\n",
            "12.2\n"
          ]
        }
      ]
    },
    {
      "cell_type": "code",
      "source": [
        "arr2 = [12,15,17,18,20,789,250]\n",
        "for i in range(len(arr2)):\n",
        "  if (arr2[i] % 2 == 0):\n",
        "    print(arr2[i], \"Even\")\n",
        "  else:\n",
        "    print(arr2[i], \"odd\")"
      ],
      "metadata": {
        "colab": {
          "base_uri": "https://localhost:8080/"
        },
        "id": "kYppBUO0x7_l",
        "outputId": "61bdc067-982a-48fe-8f2e-522e68d71d04"
      },
      "execution_count": null,
      "outputs": [
        {
          "output_type": "stream",
          "name": "stdout",
          "text": [
            "12 Even\n",
            "15 odd\n",
            "17 odd\n",
            "18 Even\n",
            "20 Even\n",
            "789 odd\n",
            "250 Even\n"
          ]
        }
      ]
    },
    {
      "cell_type": "code",
      "source": [
        "arr2 = [12,15,17,18,20,789,250]\n",
        "arr2.append(\"shafay\")\n",
        "print(arr2)\n",
        "arr2.append(\"humnah\")"
      ],
      "metadata": {
        "colab": {
          "base_uri": "https://localhost:8080/"
        },
        "id": "WQabYEVe0s4m",
        "outputId": "ca1843fa-e0d2-4ae0-9ad9-d5d80c62a7b7"
      },
      "execution_count": null,
      "outputs": [
        {
          "output_type": "stream",
          "name": "stdout",
          "text": [
            "[12, 15, 17, 18, 20, 789, 250, 'shafay']\n"
          ]
        }
      ]
    },
    {
      "cell_type": "code",
      "source": [
        "print(arr2)"
      ],
      "metadata": {
        "colab": {
          "base_uri": "https://localhost:8080/"
        },
        "id": "aiCOr8Ea1Ej6",
        "outputId": "4099d14c-d075-4381-a1b6-dc6fccc64f9a"
      },
      "execution_count": null,
      "outputs": [
        {
          "output_type": "stream",
          "name": "stdout",
          "text": [
            "[12, 15, 17, 18, 20, 789, 250, 'shafay', 'humnah']\n"
          ]
        }
      ]
    },
    {
      "cell_type": "code",
      "source": [
        "arrNum = [12,13,14,16,17,48,10,28,39]\n",
        "evenNum = []\n",
        "oddNum = []\n",
        "for i in range(len(arrNum)):\n",
        "  if (arrNum[i] % 2 == 0):\n",
        "    evenNum.append (arrNum[i])\n",
        "  else:\n",
        "    oddNum.append (arrNum[i])"
      ],
      "metadata": {
        "id": "JuVfSCPU1hFS"
      },
      "execution_count": null,
      "outputs": []
    },
    {
      "cell_type": "code",
      "source": [
        "print(evenNum)\n",
        "print(oddNum)"
      ],
      "metadata": {
        "colab": {
          "base_uri": "https://localhost:8080/"
        },
        "id": "kNP42--931vs",
        "outputId": "df99e0af-080b-43de-9b18-e5ac6694a6b6"
      },
      "execution_count": null,
      "outputs": [
        {
          "output_type": "stream",
          "name": "stdout",
          "text": [
            "[12, 14, 16, 48, 10, 28]\n",
            "[13, 17, 39]\n"
          ]
        }
      ]
    },
    {
      "cell_type": "markdown",
      "source": [
        "declare an array of some numbers and 2 more empty arrays 1 smalll num array one graet num array 1-100 -50 = small +50 great"
      ],
      "metadata": {
        "id": "VPRjHQF05TRI"
      }
    },
    {
      "cell_type": "code",
      "source": [
        "arrGr = [0, 1, 2, 3, 4, 5, 6, 7, 8, 9, 10, 11, 12, 13, 14, 15, 16, 17, 18, 19, 20, 21, 22, 23, 24, 25,26, 27, 28, 29, 30, 31, 32, 33, 34, 35, 36, 37, 38, 39, 40, 41, 42, 43, 44, 45, 46, 47, 48, 49, 50, 51, 52, 53, 54, 55, 56, 57, 58, 59, 60, 61, 62, 63, 64, 65, 66, 67, 68, 69, 70, 71, 72, 73, 74, 75, 76, 77, 78, 79, 80, 81, 82, 83, 84, 85, 86, 87, 88, 89, 90, 91, 92, 93, 94, 95, 96, 97, 98, 99, 100]\n",
        "GreatNum = []\n",
        "SmallNum = []\n",
        "for i in range(len(arrGr)):\n",
        "  if (arrGr[i] <= 50):\n",
        "     SmallNum.append (arrGr[i])\n",
        "  else:\n",
        "    GreatNum.append (arrGr[i])"
      ],
      "metadata": {
        "id": "IRshB7uUMfIb"
      },
      "execution_count": null,
      "outputs": []
    },
    {
      "cell_type": "code",
      "source": [
        "print(GreatNum)\n",
        "print(SmallNum)"
      ],
      "metadata": {
        "colab": {
          "base_uri": "https://localhost:8080/"
        },
        "id": "zPjsZ_EKPVDe",
        "outputId": "4a86c90b-9e18-4fae-aab7-497bda4febf6"
      },
      "execution_count": null,
      "outputs": [
        {
          "output_type": "stream",
          "name": "stdout",
          "text": [
            "[51, 52, 53, 54, 55, 56, 57, 58, 59, 60, 61, 62, 63, 64, 65, 66, 67, 68, 69, 70, 71, 72, 73, 74, 75, 76, 77, 78, 79, 80, 81, 82, 83, 84, 85, 86, 87, 88, 89, 90, 91, 92, 93, 94, 95, 96, 97, 98, 99, 100]\n",
            "[0, 1, 2, 3, 4, 5, 6, 7, 8, 9, 10, 11, 12, 13, 14, 15, 16, 17, 18, 19, 20, 21, 22, 23, 24, 25, 26, 27, 28, 29, 30, 31, 32, 33, 34, 35, 36, 37, 38, 39, 40, 41, 42, 43, 44, 45, 46, 47, 48, 49, 50]\n"
          ]
        }
      ]
    },
    {
      "cell_type": "code",
      "source": [
        "a = []\n",
        "for i in range(101):\n",
        "  a.append (i)"
      ],
      "metadata": {
        "id": "jqKDbhq3zEdn"
      },
      "execution_count": null,
      "outputs": []
    },
    {
      "cell_type": "code",
      "source": [
        "print(a)"
      ],
      "metadata": {
        "colab": {
          "base_uri": "https://localhost:8080/"
        },
        "id": "v9kV8c_10FMW",
        "outputId": "ad4d7a65-e44d-401e-c4f4-44560c47099b"
      },
      "execution_count": null,
      "outputs": [
        {
          "output_type": "stream",
          "name": "stdout",
          "text": [
            "[0, 1, 2, 3, 4, 5, 6, 7, 8, 9, 10, 11, 12, 13, 14, 15, 16, 17, 18, 19, 20, 21, 22, 23, 24, 25, 26, 27, 28, 29, 30, 31, 32, 33, 34, 35, 36, 37, 38, 39, 40, 41, 42, 43, 44, 45, 46, 47, 48, 49, 50, 51, 52, 53, 54, 55, 56, 57, 58, 59, 60, 61, 62, 63, 64, 65, 66, 67, 68, 69, 70, 71, 72, 73, 74, 75, 76, 77, 78, 79, 80, 81, 82, 83, 84, 85, 86, 87, 88, 89, 90, 91, 92, 93, 94, 95, 96, 97, 98, 99, 100]\n"
          ]
        }
      ]
    },
    {
      "cell_type": "code",
      "source": [
        "for i in range(len(a)):\n",
        "  if a[i] == 81:\n",
        "    print(i)"
      ],
      "metadata": {
        "colab": {
          "base_uri": "https://localhost:8080/"
        },
        "id": "uydBgdMU0mT7",
        "outputId": "f758a1a5-fe25-41ae-ce92-c0633eb61690"
      },
      "execution_count": null,
      "outputs": [
        {
          "output_type": "stream",
          "name": "stdout",
          "text": [
            "81\n"
          ]
        }
      ]
    },
    {
      "cell_type": "code",
      "source": [
        "for i in range(1,10,2):\n",
        "  print(i)"
      ],
      "metadata": {
        "colab": {
          "base_uri": "https://localhost:8080/"
        },
        "id": "thmKIbQw2fih",
        "outputId": "3ed66c44-b847-48cb-c302-7b4ee1bd56e9"
      },
      "execution_count": null,
      "outputs": [
        {
          "output_type": "stream",
          "name": "stdout",
          "text": [
            "1\n",
            "3\n",
            "5\n",
            "7\n",
            "9\n"
          ]
        }
      ]
    },
    {
      "cell_type": "code",
      "source": [
        "a = []\n",
        "for i in range(1,100,2):\n",
        "  a.append(i)\n",
        "print(a)"
      ],
      "metadata": {
        "colab": {
          "base_uri": "https://localhost:8080/"
        },
        "id": "9ZRwZkRK3WJE",
        "outputId": "44475fa5-7ab7-454d-d8e3-765b2d4f886a"
      },
      "execution_count": null,
      "outputs": [
        {
          "output_type": "stream",
          "name": "stdout",
          "text": [
            "[1, 3, 5, 7, 9, 11, 13, 15, 17, 19, 21, 23, 25, 27, 29, 31, 33, 35, 37, 39, 41, 43, 45, 47, 49, 51, 53, 55, 57, 59, 61, 63, 65, 67, 69, 71, 73, 75, 77, 79, 81, 83, 85, 87, 89, 91, 93, 95, 97, 99]\n"
          ]
        }
      ]
    },
    {
      "cell_type": "code",
      "source": [
        "ind = []\n",
        "target = 1\n",
        "for i in range(len(a)):\n",
        "  num = str(target) + \"1\"\n",
        "  if int(num) == a[i]:\n",
        "    ind.append(i)\n",
        "    target = target + 1\n",
        "print(ind)"
      ],
      "metadata": {
        "colab": {
          "base_uri": "https://localhost:8080/"
        },
        "id": "AY5p_K6Z4W8G",
        "outputId": "742c929e-5c56-4014-e16d-868c2cefaf72"
      },
      "execution_count": null,
      "outputs": [
        {
          "output_type": "stream",
          "name": "stdout",
          "text": [
            "[5, 10, 15, 20, 25, 30, 35, 40, 45]\n"
          ]
        }
      ]
    },
    {
      "cell_type": "markdown",
      "source": [
        "# Count the number of appearance of the elements which end with 9 from The array \"a\""
      ],
      "metadata": {
        "id": "okkc0Max6VlB"
      }
    },
    {
      "cell_type": "code",
      "source": [
        "arr = [0, 1, 2, 3, 4]\n",
        "print (\"The given array is: \")\n",
        "print (arr)\n",
        "\n",
        "# Finding length of the given array\n",
        "size = len(arr)\n",
        "print (\"The length of array is: \")\n",
        "print (size)"
      ],
      "metadata": {
        "colab": {
          "base_uri": "https://localhost:8080/"
        },
        "id": "DhBRoVrsRkOb",
        "outputId": "6d67758a-153c-45de-d167-7f2421e159b4"
      },
      "execution_count": null,
      "outputs": [
        {
          "output_type": "stream",
          "name": "stdout",
          "text": [
            "The given array is: \n",
            "[0, 1, 2, 3, 4]\n",
            "The length of array is: \n",
            "5\n"
          ]
        }
      ]
    },
    {
      "cell_type": "code",
      "source": [
        "arr2 = [1, 2, 3, 4, 5, 6, 7, 8, 9, 10, 11]"
      ],
      "metadata": {
        "id": "656sz2l4T48y"
      },
      "execution_count": null,
      "outputs": []
    },
    {
      "cell_type": "code",
      "source": [
        "len(arr2)"
      ],
      "metadata": {
        "colab": {
          "base_uri": "https://localhost:8080/"
        },
        "id": "h8SUdKErUScR",
        "outputId": "caddfc08-1d99-410d-ca0d-2dbfd1a1727e"
      },
      "execution_count": null,
      "outputs": [
        {
          "output_type": "execute_result",
          "data": {
            "text/plain": [
              "11"
            ]
          },
          "metadata": {},
          "execution_count": 9
        }
      ]
    },
    {
      "cell_type": "code",
      "source": [
        "import numpy as np\n",
        "\n",
        "arr = np.array([0, 1, 2, 3, 4])\n",
        "print (\"The given array is: \")\n",
        "print (arr)\n",
        "\n",
        "\n",
        "# Finding length of the given array\n",
        "size = arr.size\n",
        "print (\"The length of array is: \")\n",
        "print (size)"
      ],
      "metadata": {
        "colab": {
          "base_uri": "https://localhost:8080/"
        },
        "id": "v2kPb6qMRyAj",
        "outputId": "273f246f-c88a-4507-b37b-c09b75c13306"
      },
      "execution_count": null,
      "outputs": [
        {
          "output_type": "stream",
          "name": "stdout",
          "text": [
            "The given array is: \n",
            "[0 1 2 3 4]\n",
            "The length of array is: \n",
            "5\n"
          ]
        }
      ]
    },
    {
      "cell_type": "code",
      "source": [
        "a = []\n",
        "for i in range(1,100,2):\n",
        "  a.append(i)\n",
        "print(a)"
      ],
      "metadata": {
        "id": "SEpfZCeiUn4y"
      },
      "execution_count": null,
      "outputs": []
    },
    {
      "cell_type": "code",
      "source": [
        "arr5 = [0, 1, 2, 3, 4, 5, 6, 7, 8, 9, 10, 11, 12, 13, 14, 15, 16, 17, 18, 19, 20, 21, 22, 23, 24, 25,26, 27, 28, 29, 30, 31, 32, 33, 34, 35, 36, 37, 38, 39, 40, 41, 42, 43, 44, 45, 46, 47, 48, 49, 50, 51, 52, 53, 54, 55, 56, 57, 58, 59, 60, 61, 62, 63, 64, 65, 66, 67, 68, 69, 70, 71, 72, 73, 74, 75, 76, 77, 78, 79, 80, 81, 82, 83, 84, 85, 86, 87, 88, 89, 90, 91, 92, 93, 94, 95, 96, 97, 98, 99, 100]\n",
        "nine = []\n",
        "other = []\n",
        "for i in range(len(arr5)):\n",
        "  if (arr5[i] % 10 == 9):\n",
        "    nine.append (arr5[i])\n",
        "  else:\n",
        "    other.append (arr5[i])"
      ],
      "metadata": {
        "id": "1bBA7dsnVjB3"
      },
      "execution_count": null,
      "outputs": []
    },
    {
      "cell_type": "code",
      "source": [
        "print(nine)"
      ],
      "metadata": {
        "colab": {
          "base_uri": "https://localhost:8080/"
        },
        "id": "HsuqIgQOYW_i",
        "outputId": "0428069f-e1ed-44c9-d46e-e087d33c54a4"
      },
      "execution_count": null,
      "outputs": [
        {
          "output_type": "stream",
          "name": "stdout",
          "text": [
            "[9, 19, 29, 39, 49, 59, 69, 79, 89, 99]\n"
          ]
        }
      ]
    },
    {
      "cell_type": "code",
      "source": [
        "index = [9, 19, 29, 39, 49, 59, 69, 79, 89, 99, 69]\n",
        "for i in range(len(index)):\n",
        "  if (index[i] == 69):\n",
        "    print(i)\n",
        "    break"
      ],
      "metadata": {
        "id": "rZxjow6xZQ0H",
        "colab": {
          "base_uri": "https://localhost:8080/"
        },
        "outputId": "d36fa7d3-4fea-4bf1-f957-1799a335b2a4"
      },
      "execution_count": null,
      "outputs": [
        {
          "output_type": "stream",
          "name": "stdout",
          "text": [
            "6\n"
          ]
        }
      ]
    },
    {
      "cell_type": "code",
      "source": [
        "index2 = [4,5,7,5,5,5,5,7,78,9,6,5,4,7]\n",
        "for i in range(len(index2)):\n",
        "  if (index2[i] == 7):\n",
        "    print(i)\n",
        "    break"
      ],
      "metadata": {
        "colab": {
          "base_uri": "https://localhost:8080/"
        },
        "id": "0gNYcZXo8fJT",
        "outputId": "f07f1d5f-889f-45cd-ef9d-875d300066fe"
      },
      "execution_count": null,
      "outputs": [
        {
          "output_type": "stream",
          "name": "stdout",
          "text": [
            "2\n"
          ]
        }
      ]
    },
    {
      "cell_type": "code",
      "source": [
        "index2 = [4,5,7,5,5,5,5,7,78,9,6,5,4,7]\n",
        "for i in range(len(index2)):\n",
        "  if (index2[i] == 7):\n",
        "    print(i)"
      ],
      "metadata": {
        "colab": {
          "base_uri": "https://localhost:8080/"
        },
        "id": "NVeVSVtm9rB_",
        "outputId": "e4595853-a4fc-4b0d-93b0-77a9c08ba27b"
      },
      "execution_count": null,
      "outputs": [
        {
          "output_type": "stream",
          "name": "stdout",
          "text": [
            "2\n",
            "7\n",
            "13\n"
          ]
        }
      ]
    },
    {
      "cell_type": "markdown",
      "source": [
        "# Dictionaries"
      ],
      "metadata": {
        "id": "yBRQ18gJC8A4"
      }
    },
    {
      "cell_type": "code",
      "source": [
        "a = {\"Math\": 23, \"CS\": 24, \"Sc\": 22}\n",
        "print(a[\"Sc\"])\n",
        "a[\"Math\"] = 17\n",
        "print(a)\n",
        "a[\"Robotics\"] = 78\n",
        "print(a)"
      ],
      "metadata": {
        "id": "e0XgqnTmA0gZ",
        "colab": {
          "base_uri": "https://localhost:8080/"
        },
        "outputId": "a654da53-7279-4336-f270-d14462cc604b"
      },
      "execution_count": null,
      "outputs": [
        {
          "output_type": "stream",
          "name": "stdout",
          "text": [
            "22\n",
            "{'Math': 17, 'CS': 24, 'Sc': 22}\n",
            "{'Math': 17, 'CS': 24, 'Sc': 22, 'Robotics': 78}\n"
          ]
        }
      ]
    },
    {
      "cell_type": "code",
      "source": [
        "arr = [12,23,12,24,34,23,12]\n",
        "dic = {}\n",
        "for i in range(len(arr)):\n",
        "  if arr[i] in dic:\n",
        "    dic[arr[i]] = dic[arr[i]] + 1\n",
        "  else:\n",
        "    dic[arr[i]] =  1\n",
        "\n",
        "print(dic)"
      ],
      "metadata": {
        "colab": {
          "base_uri": "https://localhost:8080/"
        },
        "id": "vWw9U2zwDzsE",
        "outputId": "23104a82-bead-463b-ef50-26f69e1eb6b5"
      },
      "execution_count": null,
      "outputs": [
        {
          "output_type": "stream",
          "name": "stdout",
          "text": [
            "{12: 3, 23: 2, 24: 1, 34: 1}\n"
          ]
        }
      ]
    },
    {
      "cell_type": "markdown",
      "source": [
        "# Diclare an array of strings and calculate the apperance of each string"
      ],
      "metadata": {
        "id": "mQjhl1GWFyP_"
      }
    },
    {
      "cell_type": "code",
      "source": [
        "arr8 = [\"Coke\", \"Pepsi\", \"Cheetos\", \"Pepsi\", \"Cheetos\", \"Coke\", \"Cheetos\", \"mentos\"]\n",
        "dic = {}\n",
        "for i in range(len(arr8)):\n",
        "  if arr8[i] in dic:\n",
        "    dic[arr8[i]] = dic[arr8[i]] + 1\n",
        "  else:\n",
        "    dic[arr8[i]] = 1\n",
        "print(dic)"
      ],
      "metadata": {
        "colab": {
          "base_uri": "https://localhost:8080/"
        },
        "id": "tHQI-gd7SaEs",
        "outputId": "f8244546-ae05-4315-ddd4-a76c8dbcab18"
      },
      "execution_count": null,
      "outputs": [
        {
          "output_type": "stream",
          "name": "stdout",
          "text": [
            "{'Coke': 2, 'Pepsi': 2, 'Cheetos': 3, 'mentos': 1}\n"
          ]
        }
      ]
    },
    {
      "cell_type": "code",
      "source": [
        "arr = [12,34,56,76]"
      ],
      "metadata": {
        "id": "P3HlJpQFKerc"
      },
      "execution_count": null,
      "outputs": []
    },
    {
      "cell_type": "code",
      "source": [
        "for i in range(len(arr)):\n",
        "  print(arr[i])"
      ],
      "metadata": {
        "colab": {
          "base_uri": "https://localhost:8080/"
        },
        "id": "gvi0Ba8eKmfn",
        "outputId": "829ee2ec-e63c-4c88-e3c0-49f19819a52e"
      },
      "execution_count": null,
      "outputs": [
        {
          "output_type": "stream",
          "name": "stdout",
          "text": [
            "12\n",
            "34\n",
            "56\n",
            "76\n"
          ]
        }
      ]
    },
    {
      "cell_type": "code",
      "source": [
        "print(arr2[2][1])"
      ],
      "metadata": {
        "colab": {
          "base_uri": "https://localhost:8080/"
        },
        "id": "ESVFWT3CK550",
        "outputId": "a0b80d31-f5a4-4533-abe2-3525fd681ac9"
      },
      "execution_count": null,
      "outputs": [
        {
          "output_type": "stream",
          "name": "stdout",
          "text": [
            "34\n"
          ]
        }
      ]
    },
    {
      "cell_type": "code",
      "source": [
        "arr2 = [[12,23,34],[26,26,27],[27,34,12]]"
      ],
      "metadata": {
        "id": "UfzndzY8Kxi5"
      },
      "execution_count": null,
      "outputs": []
    },
    {
      "cell_type": "code",
      "source": [
        "dic = {}\n",
        "for i in range(len(arr2)):\n",
        "  for j in range(len(arr2[i])):\n",
        "    if arr2[i][j] in dic:\n",
        "      dic[arr2[i][j]] = dic[arr2[i][j]] + 1\n",
        "    else:\n",
        "      dic[arr2[i][j]] = 1\n",
        "print(dic)"
      ],
      "metadata": {
        "colab": {
          "base_uri": "https://localhost:8080/"
        },
        "id": "VyhfhYu6Di3e",
        "outputId": "9ff6d9e5-d307-4e34-ba1c-d718a0cd29d5"
      },
      "execution_count": null,
      "outputs": [
        {
          "output_type": "stream",
          "name": "stdout",
          "text": [
            "{12: 2, 23: 1, 34: 2, 26: 2, 27: 2}\n"
          ]
        }
      ]
    },
    {
      "cell_type": "code",
      "source": [
        "for i in range(7):\n",
        "  print(i)"
      ],
      "metadata": {
        "id": "4zYi4rOyEYUp",
        "colab": {
          "base_uri": "https://localhost:8080/"
        },
        "outputId": "610274ef-7d6d-4df8-dd73-498964cd81b8"
      },
      "execution_count": null,
      "outputs": [
        {
          "output_type": "stream",
          "name": "stdout",
          "text": [
            "0\n",
            "1\n",
            "2\n",
            "3\n",
            "4\n",
            "5\n",
            "6\n"
          ]
        }
      ]
    },
    {
      "cell_type": "code",
      "source": [
        "def factorial(n):\n",
        "    if n == 0:\n",
        "        return 1\n",
        "    else:\n",
        "        return n * factorial(n - 1)\n",
        "number = int(input(\"Enter a number: \"))\n",
        "result = factorial(number)\n",
        "print(\"The factorial of\", number, \"is\", result)"
      ],
      "metadata": {
        "colab": {
          "base_uri": "https://localhost:8080/"
        },
        "id": "f9E2GoUmqbYI",
        "outputId": "b2b646e1-d97e-48ff-a58c-375b7324befb"
      },
      "execution_count": null,
      "outputs": [
        {
          "output_type": "stream",
          "name": "stdout",
          "text": [
            "Enter a number: 5\n",
            "The factorial of 5 is 120\n"
          ]
        }
      ]
    },
    {
      "cell_type": "code",
      "source": [
        "def is_prime(n):\n",
        "    if n <= 1:\n",
        "        return False\n",
        "    for i in range(2, int(n ** 0.5) + 1):\n",
        "        if n % i == 0:\n",
        "            return False\n",
        "    return True\n",
        "\n",
        "n = int(input(\"Enter a number: \"))\n",
        "prime_numbers = [num for num in range(2, n+1) if is_prime(num)]\n",
        "print(\"Prime numbers up to\", n, \"are:\", prime_numbers)\n"
      ],
      "metadata": {
        "colab": {
          "base_uri": "https://localhost:8080/"
        },
        "id": "KznRk0BOrj6g",
        "outputId": "a94a6080-cae2-4e98-c9d0-6a8d59cb7fab"
      },
      "execution_count": null,
      "outputs": [
        {
          "output_type": "stream",
          "name": "stdout",
          "text": [
            "Enter a number: 10\n",
            "Prime numbers up to 10 are: [2, 3, 5, 7]\n"
          ]
        }
      ]
    },
    {
      "cell_type": "code",
      "source": [
        "arr = [12,23,31,25]\n",
        "for i in arr:\n",
        "  if i % 2 == 0:\n",
        "    print(i, \"Even\")\n",
        "  else:\n",
        "    print(i, \"Odd\")"
      ],
      "metadata": {
        "colab": {
          "base_uri": "https://localhost:8080/"
        },
        "id": "LoI5W7OAdL_p",
        "outputId": "4d4843e0-dae3-494f-9c58-cf33122680a5"
      },
      "execution_count": null,
      "outputs": [
        {
          "output_type": "stream",
          "name": "stdout",
          "text": [
            "12 Even\n",
            "23 Odd\n",
            "31 Odd\n",
            "25 Odd\n"
          ]
        }
      ]
    },
    {
      "cell_type": "code",
      "source": [
        "for i in range(len(arr)):\n",
        "  if arr[i] % 2 == 0:\n",
        "    print(arr[i], \"Even\")\n",
        "  else:\n",
        "    print(arr[i], \"Odd\")"
      ],
      "metadata": {
        "colab": {
          "base_uri": "https://localhost:8080/"
        },
        "id": "8kOz8PTmdnAi",
        "outputId": "df823df4-f148-431a-a92f-af53fc9f2e42"
      },
      "execution_count": null,
      "outputs": [
        {
          "output_type": "stream",
          "name": "stdout",
          "text": [
            "12 Even\n",
            "23 Odd\n",
            "31 Odd\n",
            "25 Odd\n"
          ]
        }
      ]
    },
    {
      "cell_type": "code",
      "source": [
        "arr2 = [12,13,14,15,16,18]\n",
        "for i in range(len(arr2)):\n",
        "  if 17 < arr2[i]:\n",
        "    arr2.insert(i,17)\n",
        "    break\n",
        "\n",
        "print(arr2)"
      ],
      "metadata": {
        "colab": {
          "base_uri": "https://localhost:8080/"
        },
        "id": "WfwXAlLGeGCm",
        "outputId": "497048e0-a781-414e-8ce6-6c2332d2fa3b"
      },
      "execution_count": null,
      "outputs": [
        {
          "output_type": "stream",
          "name": "stdout",
          "text": [
            "[12, 13, 14, 15, 16, 17, 18]\n"
          ]
        }
      ]
    },
    {
      "cell_type": "code",
      "source": [
        "arr = [15, 16, 17, 18, 20, 21]\n",
        "for i in range(len(arr)):\n",
        "  if 19 < arr[i]:\n",
        "    arr.insert(i,19)\n",
        "    break\n",
        "\n",
        "\n",
        "print(arr)"
      ],
      "metadata": {
        "colab": {
          "base_uri": "https://localhost:8080/"
        },
        "id": "A8Wvk7uhfjrF",
        "outputId": "5b1d33b9-43df-4d62-e495-12d67acd58e2"
      },
      "execution_count": null,
      "outputs": [
        {
          "output_type": "stream",
          "name": "stdout",
          "text": [
            "[15, 16, 17, 18, 19, 20, 21]\n"
          ]
        }
      ]
    }
  ]
}